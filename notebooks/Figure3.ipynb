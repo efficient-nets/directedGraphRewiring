{
 "cells": [
  {
   "cell_type": "code",
   "execution_count": 1,
   "metadata": {},
   "outputs": [],
   "source": [
    "# Add project's path to system path\n",
    "import os\n",
    "import sys\n",
    "try: \n",
    "    proj_path\n",
    "except NameError:\n",
    "    os.chdir('../')\n",
    "    proj_path = os.getcwd()\n",
    "    if proj_path not in sys.path:\n",
    "        sys.path.append(proj_path)\n",
    "\n",
    "# Import dependencies\n",
    "import numpy as np\n",
    "import matplotlib.pyplot as plt\n",
    "import random\n",
    "import networkx as nx\n",
    "from scipy import linalg\n",
    "\n",
    "from codebase import utils, rewiring, rewiring_iterations, directed_modularity # custom-made functions"
   ]
  },
  {
   "cell_type": "markdown",
   "metadata": {},
   "source": [
    "## functions"
   ]
  },
  {
   "cell_type": "code",
   "execution_count": 2,
   "metadata": {},
   "outputs": [],
   "source": [
    "def convert_from_adj2networkX(A,weight_d='binary'):\n",
    "\n",
    "    edges_ind = np.where(A>0)\n",
    "    num_edges = len(edges_ind[0])\n",
    "\n",
    "    G = nx.DiGraph()   # DiGraph\n",
    "    G.add_nodes_from(np.arange(A.shape[0]))\n",
    "\n",
    "    edges_list = list()\n",
    "    if weight_d == 'binary':\n",
    "        for ind in np.arange(num_edges):\n",
    "            edge_pair = (edges_ind[1][ind],edges_ind[0][ind])\n",
    "            edges_list.append(edge_pair)\n",
    "        \n",
    "        G.add_edges_from(edges_list)    \n",
    "    else:\n",
    "        for ind in np.arange(num_edges):\n",
    "            edge_pair_w = (edges_ind[1][ind],edges_ind[0][ind],A[edges_ind[0][ind],edges_ind[1][ind]])\n",
    "            edges_list.append(edge_pair_w)    \n",
    "        \n",
    "        G.add_weighted_edges_from(edges_list)\n",
    "        \n",
    "        \n",
    "    return G"
   ]
  },
  {
   "cell_type": "code",
   "execution_count": 3,
   "metadata": {},
   "outputs": [],
   "source": [
    "def getDigraphPathMetrics(Ax):\n",
    "\n",
    "    G = convert_from_adj2networkX(Ax)\n",
    "    nodes = len(G.nodes)\n",
    "\n",
    "    paths = dict(nx.all_pairs_dijkstra_path(G))\n",
    "    len_paths = dict(nx.all_pairs_dijkstra_path_length(G))\n",
    "\n",
    "    # it is opposite from the adjacency matrix, i.e. pathsMatrix[i,j] is path length from i to j\n",
    "    pathsMatrix = np.zeros((nodes,nodes)) \n",
    "    for source in np.arange(nodes):\n",
    "        for target in len_paths[source].keys():\n",
    "            pathsMatrix[source, target] = len_paths[source][target]\n",
    "\n",
    "    numPaths = np.sum(pathsMatrix>0)\n",
    "    numNonPaths = nodes*(nodes-1) -(numPaths + nodes)\n",
    "    distPaths = pathsMatrix[np.where(pathsMatrix>0)] \n",
    "    \n",
    "    invDistPaths = 1.0/distPaths\n",
    "    avInvPathAll = np.sum(invDistPaths)/(nodes*(nodes-1))\n",
    "    avPathAll = (1.0/avInvPathAll)\n",
    "    avInvPathOnlyPaths = np.sum(invDistPaths)/numPaths\n",
    "    avPathOnlyPaths = (1.0/avInvPathOnlyPaths)\n",
    "\n",
    "    return numPaths,numNonPaths,distPaths,pathsMatrix,avPathAll,avPathOnlyPaths"
   ]
  },
  {
   "cell_type": "code",
   "execution_count": 4,
   "metadata": {},
   "outputs": [],
   "source": [
    "\n",
    "def getDigraphCycleMetrics(pathsMatrix):\n",
    "    \n",
    "    nodes = pathsMatrix.shape[0]\n",
    "    loopsMatrix = np.zeros((nodes,nodes))\n",
    "    for a in np.arange(nodes):\n",
    "        for b in np.arange(a+1,nodes):\n",
    "        \n",
    "            cycleLen = 0\n",
    "            if pathsMatrix[a,b]>0:\n",
    "                cycleLen +=pathsMatrix[a,b]\n",
    "                if pathsMatrix[b,a]>0:\n",
    "                    cycleLen +=pathsMatrix[b,a]\n",
    "                    loopsMatrix[a,b] = cycleLen\n",
    "                    #loopsSymMatrix[b,a] = cycleLen\n",
    "                     \n",
    "                \n",
    "    numCycles = np.sum(loopsMatrix>0)\n",
    "    numNonCycles = nodes*(nodes-1)/2 -(numCycles)\n",
    "    distCycles = loopsMatrix[np.where(loopsMatrix>0)]    \n",
    "    \n",
    "    return numCycles, numNonCycles, distCycles, loopsMatrix"
   ]
  },
  {
   "cell_type": "markdown",
   "metadata": {},
   "source": [
    "## Analysis  cons_adv_50"
   ]
  },
  {
   "cell_type": "code",
   "execution_count": 17,
   "metadata": {},
   "outputs": [],
   "source": [
    "directory_load = 'data/'\n",
    "\n",
    "flag = '_cons_adv_50_'\n",
    "\n",
    "file_path_load = directory_load +'A'+flag+'pRand.pckl'\n",
    "A = utils.load_var(file_path_load)\n",
    "\n",
    "pR = [0,0.2,0.4,0.6,0.8]\n",
    "repetitions = 100\n",
    "pathDict = {}; cycleDict = {}"
   ]
  },
  {
   "cell_type": "code",
   "execution_count": 18,
   "metadata": {},
   "outputs": [],
   "source": [
    "\n",
    "for rep in np.arange(repetitions):\n",
    "    for indP,p in enumerate(pR):\n",
    "        \n",
    "        Ax = A[rep+1][p,1][4000]\n",
    "        \n",
    "        numPaths,numNonPaths,distPaths,pathsMatrix,avPathAll,avPathOnlyPaths = getDigraphPathMetrics(Ax)\n",
    "        pathDict[rep+1,p,flag] = (numPaths,numNonPaths,distPaths,pathsMatrix,avPathAll,avPathOnlyPaths)\n",
    "        \n",
    "        numCycles, numNonCycles, distCycles, loopsMatrix = getDigraphCycleMetrics(pathsMatrix)\n",
    "        cycleDict[rep+1,p,flag] = (numCycles, numNonCycles, distCycles, loopsMatrix)"
   ]
  },
  {
   "cell_type": "code",
   "execution_count": 20,
   "metadata": {},
   "outputs": [],
   "source": [
    "directory_save = 'data/pathMetrics/'\n",
    "\n",
    "file_path_save = directory_save+'pathDict.pckl'\n",
    "utils.save_var(pathDict,file_path_save)\n",
    "\n",
    "file_path_save = directory_save+'cycleDict.pckl'\n",
    "utils.save_var(cycleDict,file_path_save)\n"
   ]
  },
  {
   "cell_type": "markdown",
   "metadata": {},
   "source": [
    "# Aggregate Analysis "
   ]
  },
  {
   "cell_type": "code",
   "execution_count": 22,
   "metadata": {},
   "outputs": [],
   "source": [
    "####loads data\n",
    "directory_load = 'data/pathMetrics/'\n",
    "file_path_load = directory_load+'pathDict.pckl'\n",
    "pathDict = utils.load_var(file_path_load)\n",
    "\n",
    "file_path_load = directory_load+'cycleDict.pckl'\n",
    "cycleDict = utils.load_var(file_path_load)\n",
    "####\n",
    "\n",
    "pR = [0, 0.2, 0.4, 0.6, 0.8]\n",
    "repetitions = 100\n",
    "pathOnlyPaths = np.zeros((len(pR),repetitions)); pathAll = np.zeros((len(pR),repetitions)); percNoPath = np.zeros((len(pR),repetitions))\n",
    "\n",
    "flag = '_cons_adv_50_'\n",
    "\n",
    "for indP,p in enumerate(pR):\n",
    "    for rep in np.arange(repetitions):\n",
    " \n",
    "        (numPaths,numNonPaths,distPaths,pathsMatrix,avPathAll,avPathOnlyPaths) = pathDict[rep+1,p,flag]    \n",
    "        \n",
    "        pathAll[indP,rep] =avPathAll\n",
    "        pathOnlyPaths[indP,rep] = avPathOnlyPaths        \n",
    "        percNoPath[indP,rep] = numNonPaths/(numNonPaths+numPaths)"
   ]
  },
  {
   "cell_type": "code",
   "execution_count": 25,
   "metadata": {},
   "outputs": [
    {
     "data": {
      "text/plain": [
       "Text(0.5,0,'Prandom')"
      ]
     },
     "execution_count": 25,
     "metadata": {},
     "output_type": "execute_result"
    },
    {
     "data": {
      "image/png": "[encoded data removed]",
      "text/plain": [
       "<Figure size 432x288 with 1 Axes>"
      ]
     },
     "metadata": {},
     "output_type": "display_data"
    }
   ],
   "source": [
    "pathAllMean = np.zeros((len(pR),1))\n",
    "pathAllStd = np.zeros((len(pR),1))\n",
    "\n",
    "pathOnlyPathsMean = np.zeros((len(pR),1))\n",
    "pathOnlyPathsStd = np.zeros((len(pR),1))\n",
    "\n",
    "percNoPathMean = np.zeros((len(pR),1))\n",
    "percNoPathStd = np.zeros((len(pR),1))\n",
    "\n",
    "\n",
    "for ind,p in enumerate(pR):\n",
    "    \n",
    "    pathAllMean[ind] = np.mean(pathAll[ind,:])    \n",
    "    pathAllStd[ind] = np.std(pathAll[ind,:])\n",
    "    \n",
    "    pathOnlyPathsMean[ind] = np.mean(pathOnlyPaths[ind,:])    \n",
    "    pathOnlyPathsStd[ind] = np.std(pathOnlyPaths[ind,:])    \n",
    "    \n",
    "    percNoPathMean[ind] = np.mean(percNoPath[ind,:])\n",
    "    percNoPathStd[ind] = np.mean(percNoPath[ind,:])\n",
    "    \n",
    "    \n",
    "\n",
    "plt.plot(pR,pathOnlyPathsMean,color='blue',linewidth=2)\n",
    "plt.plot(pR,pathAllMean,color='cyan',linewidth=2)\n",
    "\n",
    "\n",
    "plt.errorbar(pR,pathOnlyPathsMean,pathOnlyPathsStd,marker= 'o',color='blue',linewidth=2,label='Only paths')\n",
    "plt.errorbar(pR,pathAllMean,pathAllStd,marker= 'v',color='cyan',linewidth=2,label='All combinations')\n",
    "\n",
    "plt.legend()\n",
    "plt.xticks(pR)\n",
    "\n",
    "plt.yticks([0,1,2,3,4,5])\n",
    "plt.ylim([0,6])      \n",
    "\n",
    "plt.xlabel('Prandom')\n",
    "plt.ylabel('Path length')"
   ]
  },
  {
   "cell_type": "code",
   "execution_count": 27,
   "metadata": {},
   "outputs": [
    {
     "data": {
      "text/plain": [
       "Text(0,0.5,'Percentage of pairs with no path')"
      ]
     },
     "execution_count": 27,
     "metadata": {},
     "output_type": "execute_result"
    },
    {
     "data": {
      "image/png": "[encoded data removed]",
      "text/plain": [
       "<Figure size 432x288 with 1 Axes>"
      ]
     },
     "metadata": {},
     "output_type": "display_data"
    }
   ],
   "source": [
    "plt.plot(pR,percNoPathMean,color='red',linewidth=2)\n",
    "\n",
    "plt.errorbar(pR,percNoPathMean,percNoPathStd,marker= '>',color='red',linewidth=2,label='% no path')\n",
    "\n",
    "plt.xticks(pR)\n",
    "\n",
    "plt.xlabel('Prandom')\n",
    "plt.ylabel('Percentage of pairs with no path')"
   ]
  }
 ],
 "metadata": {
  "kernelspec": {
   "display_name": "Python 3",
   "language": "python",
   "name": "python3"
  },
  "language_info": {
   "codemirror_mode": {
    "name": "ipython",
    "version": 3
   },
   "file_extension": ".py",
   "mimetype": "text/x-python",
   "name": "python",
   "nbconvert_exporter": "python",
   "pygments_lexer": "ipython3",
   "version": "3.6.1"
  }
 },
 "nbformat": 4,
 "nbformat_minor": 2
}
