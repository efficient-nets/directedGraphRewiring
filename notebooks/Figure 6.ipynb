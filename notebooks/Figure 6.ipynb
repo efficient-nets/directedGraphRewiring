{
 "cells": [
  {
   "cell_type": "code",
   "execution_count": 7,
   "metadata": {},
   "outputs": [],
   "source": [
    "# Add project's path to system path\n",
    "import os\n",
    "import sys\n",
    "try: \n",
    "    proj_path\n",
    "except NameError:\n",
    "    os.chdir('../')\n",
    "    proj_path = os.getcwd()\n",
    "    if proj_path not in sys.path:\n",
    "        sys.path.append(proj_path)\n",
    "\n",
    "# Import dependencies\n",
    "import numpy as np\n",
    "import matplotlib.pyplot as plt\n",
    "import random\n",
    "import networkx as nx\n",
    "from scipy import linalg\n",
    "\n",
    "from src.codebase.nodes import utils, rewiring, rewiring_iterations, directed_modularity # custom-made functions"
   ]
  },
  {
   "cell_type": "markdown",
   "metadata": {},
   "source": [
    "## Functions"
   ]
  },
  {
   "cell_type": "code",
   "execution_count": 8,
   "metadata": {},
   "outputs": [],
   "source": [
    "def convert_from_adj2networkX(A,weight_d='binary'):\n",
    "\n",
    "    edges_ind = np.where(A>0)\n",
    "    num_edges = len(edges_ind[0])\n",
    "\n",
    "    G = nx.DiGraph()   # DiGraph\n",
    "    G.add_nodes_from(np.arange(A.shape[0]))\n",
    "\n",
    "    edges_list = list()\n",
    "    if weight_d == 'binary':\n",
    "        for ind in np.arange(num_edges):\n",
    "            edge_pair = (edges_ind[1][ind],edges_ind[0][ind])\n",
    "            edges_list.append(edge_pair)\n",
    "        \n",
    "        G.add_edges_from(edges_list)    \n",
    "    else:\n",
    "        for ind in np.arange(num_edges):\n",
    "            edge_pair_w = (edges_ind[1][ind],edges_ind[0][ind],A[edges_ind[0][ind],edges_ind[1][ind]])\n",
    "            edges_list.append(edge_pair_w)    \n",
    "        \n",
    "        G.add_weighted_edges_from(edges_list)\n",
    "        \n",
    "        \n",
    "    return G"
   ]
  },
  {
   "cell_type": "code",
   "execution_count": 9,
   "metadata": {},
   "outputs": [],
   "source": [
    "def getDigraphIntermediate2HubStructure(Ax,inOutThresh):\n",
    "\n",
    "    inDeg = np.sum(Ax,axis=1)\n",
    "    outDeg = np.sum(Ax,axis=0)\n",
    "    \n",
    "    #bare minimum nodes should have greater than 1 in and out-degrees\n",
    "    nonZeroIn = np.where(inDeg>1)[0]\n",
    "    nonZeroOut = np.where(outDeg>1)[0]\n",
    "    nonZeroInOut = np.intersect1d(nonZeroIn,nonZeroOut)\n",
    "\n",
    "    inOutDeg = inDeg + outDeg\n",
    "    indNodesTemp = np.where(inOutDeg>=inOutThresh)[0]\n",
    "    indNodes2Use = np.intersect1d(nonZeroInOut,indNodesTemp)\n",
    "    lenNodes2Use = len(indNodes2Use)\n",
    "\n",
    "    #find the hubConv and the hubDiv\n",
    "    hubConv = []; hubDiv = [] \n",
    "    for nodes in indNodes2Use:\n",
    "    \n",
    "        if inDeg[nodes]>outDeg[nodes]:\n",
    "            hubConv.append(nodes)\n",
    "        else:\n",
    "            hubDiv.append(nodes)\n",
    "\n",
    "    G = convert_from_adj2networkX(Ax)\n",
    "    paths = dict(nx.all_pairs_dijkstra_path(G))\n",
    "    len_paths = dict(nx.all_pairs_dijkstra_path_length(G))\n",
    "            \n",
    "    #find the intermediate hubs and simple nodes from hubConv to hubDiv\n",
    "    intermedNodesAll = []\n",
    "    for source in hubConv:\n",
    "        for target in hubDiv:\n",
    "          \n",
    "            if target in list(paths[source].keys()):\n",
    "                if len(paths[source][target])>2:\n",
    "                    intermedNodesAll.extend(paths[source][target][1:-1])\n",
    "\n",
    "    \n",
    "    intermedNodes = np.unique(intermedNodesAll)    \n",
    "    intermedHubs = np.intersect1d(intermedNodes, indNodes2Use)        \n",
    "    #Return the unique values in intermedNodes that are not in indNodes2Use\n",
    "    intermedSimpleNodes = np.setdiff1d(intermedNodes, indNodes2Use)\n",
    "    \n",
    "    \n",
    "    return indNodes2Use,intermedHubs,intermedSimpleNodes"
   ]
  },
  {
   "cell_type": "code",
   "execution_count": 10,
   "metadata": {},
   "outputs": [],
   "source": [
    "def get_inv_path_length(G):\n",
    "\n",
    "    nodes = len(G.nodes)\n",
    "    total_connections = nodes*(nodes-1)\n",
    "\n",
    "    paths = dict(nx.all_pairs_dijkstra_path(G))\n",
    "    len_paths = dict(nx.all_pairs_dijkstra_path_length(G))\n",
    "\n",
    "    total_inv_path_len = 0\n",
    "    counter = 0\n",
    "    for edge in len_paths.keys():\n",
    "        for conn_edge in len_paths[edge].keys():\n",
    "        \n",
    "            counter += 1\n",
    "            len_p = len_paths[edge][conn_edge]\n",
    "            if len_p>0:\n",
    "                total_inv_path_len += 1/len_p\n",
    "            #else:\n",
    "            #    print('edge is '+str(edge)+' and connected edge is '+str(conn_edge))\n",
    "\n",
    "            #print('%d-%d: %f'%(edge,conn_edge,len_p))\n",
    "            #print('counter is %d, length of the path is %f and total path length so far is %f '%(counter,len_p,total_path_len))\n",
    "            #print('')\n",
    "\n",
    "    average_inv_path_len = total_inv_path_len/total_connections\n",
    "    num_of_possible_paths = counter\n",
    "    #print('average path length is %f'%average_path_len)\n",
    "    return average_inv_path_len,num_of_possible_paths"
   ]
  },
  {
   "cell_type": "code",
   "execution_count": null,
   "metadata": {},
   "outputs": [],
   "source": []
  },
  {
   "cell_type": "code",
   "execution_count": 11,
   "metadata": {},
   "outputs": [],
   "source": [
    "directory_load = 'data/01_raw/'\n",
    "\n",
    "flag = '_cons_adv_50_'\n",
    "\n",
    "file_path_load = directory_load +'A'+flag+'pRand.pckl'\n",
    "A = utils.load_var(file_path_load)\n",
    "\n",
    "pRandVec = [0,0.1,0.2,0.3,0.4,0.5,0.6,0.7,0.8, 1]\n",
    "repetitions = 100\n",
    "\n"
   ]
  },
  {
   "cell_type": "markdown",
   "metadata": {},
   "source": [
    "# Same as in Figure 5 but now we also do some statistical analysis too. You will see in the particular excerpt in the paper where I write something about p-values and more signifact and what have you."
   ]
  },
  {
   "cell_type": "code",
   "execution_count": 12,
   "metadata": {},
   "outputs": [],
   "source": [
    "inOutThresh = 15 # 20,25,30\n",
    "\n",
    "numNodes = 100\n",
    "AIntermedDict = {};ASimpleDict={};\n",
    "for rep in np.arange(repetitions):\n",
    "    for indP,p in enumerate(pRandVec):\n",
    "        \n",
    "        Ax = A[rep+1][p,1][4000]\n",
    "        indNodes2Use,indIntermedHubs,indIntermedSimpleNodes = getDigraphIntermediate2HubStructure(Ax,inOutThresh)\n",
    "\n",
    "        if len(indIntermedSimpleNodes)>0:            \n",
    "            \n",
    "            AIntermedDict[rep+1,p,flag] = Ax[indIntermedSimpleNodes[:, None], indIntermedSimpleNodes]\n",
    "        \n",
    "            #put here random nodes the size of Asubset to compare\n",
    "            indSimpleNodesTemp = np.setdiff1d(np.arange(numNodes), indNodes2Use, assume_unique=False)\n",
    "            indSimpleNodes = np.setdiff1d(indSimpleNodesTemp, indIntermedSimpleNodes, assume_unique=False)\n",
    "            if len(indIntermedSimpleNodes) < len(indSimpleNodes):\n",
    "                indRandSimpleNodes = random.sample(list(indSimpleNodes),len(indIntermedSimpleNodes))\n",
    "            else:\n",
    "                indRandSimpleNodes = indSimpleNodes\n",
    "            \n",
    "            indRandSimpleNodes = np.array(indRandSimpleNodes)\n",
    "\n",
    "            ASimpleDict[rep+1,p,flag] = Ax[indRandSimpleNodes[:, None], indRandSimpleNodes]\n",
    "\n",
    "        else:\n",
    "            AIntermedDict[rep+1,p,flag] = np.array([])\n",
    "            ASimpleDict[rep+1,p,flag] = np.array([])\n",
    "            "
   ]
  },
  {
   "cell_type": "code",
   "execution_count": 13,
   "metadata": {},
   "outputs": [],
   "source": [
    "\n",
    "pR=[0,0.2,0.4,0.6]\n",
    "\n",
    "nodesIntermed = {}; nodesSimple = {}; connectionsIntermed = {}; connectionsSimple = {}\n",
    "densityIntermed = {}; densitySimple = {}\n",
    "for p in pR:\n",
    "    nodesIntermed[p]= np.zeros((repetitions,1)); nodesSimple[p] = np.zeros((repetitions,1))\n",
    "    connectionsIntermed[p] = np.zeros((repetitions,1));connectionsSimple[p] = np.zeros((repetitions,1))\n",
    "    densityIntermed[p] = np.zeros((repetitions,1)); densitySimple[p] = np.zeros((repetitions,1))\n",
    "    for rep in np.arange(repetitions):\n",
    "    \n",
    "        AIntermed = AIntermedDict[rep+1,p,flag]\n",
    "        nodesIntermed[p][rep] = AIntermed.shape[0]\n",
    "        connectionsIntermed[p][rep] = np.sum(AIntermed)\n",
    "        \n",
    "        if connectionsIntermed[p][rep] > 0:\n",
    "            densityIntermed[p][rep] = connectionsIntermed[p][rep]/(nodesIntermed[p][rep]*(nodesIntermed[p][rep]-1))\n",
    "        else:\n",
    "            densityIntermed[p][rep] = 0.0\n",
    "        \n",
    "        ASimple = ASimpleDict[rep+1,p,flag]        \n",
    "        nodesSimple[p][rep] = ASimple.shape[0]\n",
    "        connectionsSimple[p][rep] = np.sum(ASimple)\n",
    "        \n",
    "        if connectionsSimple[p][rep] > 0:\n",
    "            densitySimple[p][rep] = connectionsSimple[p][rep]/(nodesSimple[p][rep]*(nodesSimple[p][rep]-1))\n",
    "        else:\n",
    "            densitySimple[p][rep] = 0        \n",
    "        \n"
   ]
  },
  {
   "cell_type": "code",
   "execution_count": 15,
   "metadata": {},
   "outputs": [
    {
     "name": "stderr",
     "output_type": "stream",
     "text": [
      "The PostScript backend does not support transparency; partially transparent artists will be rendered opaque.\n",
      "The PostScript backend does not support transparency; partially transparent artists will be rendered opaque.\n"
     ]
    },
    {
     "data": {
      "image/png": "[encoded data removed]",
      "text/plain": [
       "<Figure size 432x288 with 1 Axes>"
      ]
     },
     "metadata": {
      "needs_background": "light"
     },
     "output_type": "display_data"
    }
   ],
   "source": [
    "densityIntermedMean = np.zeros((len(pR),1))\n",
    "densityIntermedStd = np.zeros((len(pR),1))\n",
    "\n",
    "densitySimpleMean = np.zeros((len(pR),1))\n",
    "densitySimpleStd = np.zeros((len(pR),1))\n",
    "\n",
    "\n",
    "markers = ['o','v','>','<']\n",
    "colors = ['blue','orange','green','red']\n",
    "\n",
    "for ind,p in enumerate(pR):\n",
    "    densityIntermedMean[ind] = np.mean(densityIntermed[p])\n",
    "    densityIntermedStd[ind] = np.std(densityIntermed[p])\n",
    "    \n",
    "    densitySimpleMean[ind] = np.mean(densitySimple[p])\n",
    "    densitySimpleStd[ind] = np.std(densitySimple[p])    \n",
    "    \n",
    "\n",
    "plt.plot(pR,densityIntermedMean,color='grey',linewidth=2,label='Intermediate nodes')\n",
    "plt.plot(pR,densitySimpleMean,color='black',linewidth=2,label='Simple unit')\n",
    "plt.legend()\n",
    "plt.xticks(pR)\n",
    "plt.yticks([0,0.05,0.1,0.15,0.2,0.25,0.3,0.35,0.4])\n",
    "plt.ylim([0,0.44])  \n",
    "#plt.legend()\n",
    "for ind in np.arange(len(densityIntermedMean)):\n",
    "    plt.errorbar(pR[ind],densityIntermedMean[ind],densityIntermedStd[ind],marker= markers[ind],color=colors[ind],linewidth=2)\n",
    "    plt.errorbar(pR[ind],densitySimpleMean[ind],densitySimpleStd[ind],marker= markers[ind],color=colors[ind],linewidth=2)\n",
    "\n",
    "\n",
    "filePathPlot = 'data/03_figures/convdiv/DensityIntermed'+str(inOutThresh)+'.eps'    \n",
    "\n",
    "plt.savefig(filePathPlot, format='eps', dpi=1200)"
   ]
  },
  {
   "cell_type": "code",
   "execution_count": 16,
   "metadata": {},
   "outputs": [],
   "source": [
    "import pandas as pd\n",
    "\n",
    "numIterations = 100\n",
    "pRand = [0,0.2,0.4,0.6]\n",
    "densityType = ['Simple','Intermediate']\n",
    "\n",
    "allDensities = []; labelsP = []; labelsType = []\n",
    "\n",
    "counter = 0\n",
    "for p in pRand:\n",
    "    for den in densityType:\n",
    "        \n",
    "        labelsP.extend([p]*numIterations)\n",
    "        \n",
    "        counter +=1\n",
    "        start = (counter-1)*numIterations\n",
    "        end = start+numIterations\n",
    "        if den is 'Simple':\n",
    "            allDensities.extend(densitySimple[p])\n",
    "            labelsType.extend(['Simple']*numIterations)\n",
    "        else:\n",
    "            allDensities.extend(densityIntermed[p])\n",
    "            labelsType.extend(['Intermediate']*numIterations)\n",
    "\n",
    "dictData = {}\n",
    "dictData['type'] = labelsType\n",
    "dictData['pRand'] = labelsP\n",
    "\n",
    "allData = []\n",
    "for val in allDensities:\n",
    "    allData.append(val[0])\n",
    "dictData['densities'] = allData\n",
    "            \n",
    "df = pd.DataFrame(data = dictData)"
   ]
  },
  {
   "cell_type": "code",
   "execution_count": 17,
   "metadata": {},
   "outputs": [
    {
     "data": {
      "text/html": [
       "<div>\n",
       "<style scoped>\n",
       "    .dataframe tbody tr th:only-of-type {\n",
       "        vertical-align: middle;\n",
       "    }\n",
       "\n",
       "    .dataframe tbody tr th {\n",
       "        vertical-align: top;\n",
       "    }\n",
       "\n",
       "    .dataframe thead th {\n",
       "        text-align: right;\n",
       "    }\n",
       "</style>\n",
       "<table border=\"1\" class=\"dataframe\">\n",
       "  <thead>\n",
       "    <tr style=\"text-align: right;\">\n",
       "      <th></th>\n",
       "      <th>type</th>\n",
       "      <th>pRand</th>\n",
       "      <th>densities</th>\n",
       "    </tr>\n",
       "  </thead>\n",
       "  <tbody>\n",
       "    <tr>\n",
       "      <th>0</th>\n",
       "      <td>Simple</td>\n",
       "      <td>0.0</td>\n",
       "      <td>0.000000</td>\n",
       "    </tr>\n",
       "    <tr>\n",
       "      <th>1</th>\n",
       "      <td>Simple</td>\n",
       "      <td>0.0</td>\n",
       "      <td>0.000000</td>\n",
       "    </tr>\n",
       "    <tr>\n",
       "      <th>2</th>\n",
       "      <td>Simple</td>\n",
       "      <td>0.0</td>\n",
       "      <td>0.000000</td>\n",
       "    </tr>\n",
       "    <tr>\n",
       "      <th>3</th>\n",
       "      <td>Simple</td>\n",
       "      <td>0.0</td>\n",
       "      <td>0.000000</td>\n",
       "    </tr>\n",
       "    <tr>\n",
       "      <th>4</th>\n",
       "      <td>Simple</td>\n",
       "      <td>0.0</td>\n",
       "      <td>0.000000</td>\n",
       "    </tr>\n",
       "    <tr>\n",
       "      <th>...</th>\n",
       "      <td>...</td>\n",
       "      <td>...</td>\n",
       "      <td>...</td>\n",
       "    </tr>\n",
       "    <tr>\n",
       "      <th>795</th>\n",
       "      <td>Intermediate</td>\n",
       "      <td>0.6</td>\n",
       "      <td>0.072650</td>\n",
       "    </tr>\n",
       "    <tr>\n",
       "      <th>796</th>\n",
       "      <td>Intermediate</td>\n",
       "      <td>0.6</td>\n",
       "      <td>0.044508</td>\n",
       "    </tr>\n",
       "    <tr>\n",
       "      <th>797</th>\n",
       "      <td>Intermediate</td>\n",
       "      <td>0.6</td>\n",
       "      <td>0.051724</td>\n",
       "    </tr>\n",
       "    <tr>\n",
       "      <th>798</th>\n",
       "      <td>Intermediate</td>\n",
       "      <td>0.6</td>\n",
       "      <td>0.069048</td>\n",
       "    </tr>\n",
       "    <tr>\n",
       "      <th>799</th>\n",
       "      <td>Intermediate</td>\n",
       "      <td>0.6</td>\n",
       "      <td>0.029557</td>\n",
       "    </tr>\n",
       "  </tbody>\n",
       "</table>\n",
       "<p>800 rows × 3 columns</p>\n",
       "</div>"
      ],
      "text/plain": [
       "             type  pRand  densities\n",
       "0          Simple    0.0   0.000000\n",
       "1          Simple    0.0   0.000000\n",
       "2          Simple    0.0   0.000000\n",
       "3          Simple    0.0   0.000000\n",
       "4          Simple    0.0   0.000000\n",
       "..            ...    ...        ...\n",
       "795  Intermediate    0.6   0.072650\n",
       "796  Intermediate    0.6   0.044508\n",
       "797  Intermediate    0.6   0.051724\n",
       "798  Intermediate    0.6   0.069048\n",
       "799  Intermediate    0.6   0.029557\n",
       "\n",
       "[800 rows x 3 columns]"
      ]
     },
     "execution_count": 17,
     "metadata": {},
     "output_type": "execute_result"
    }
   ],
   "source": [
    "df"
   ]
  },
  {
   "cell_type": "code",
   "execution_count": 18,
   "metadata": {},
   "outputs": [
    {
     "data": {
      "text/plain": [
       "<AxesSubplot:xlabel='type', ylabel='densities'>"
      ]
     },
     "execution_count": 18,
     "metadata": {},
     "output_type": "execute_result"
    },
    {
     "data": {
      "image/png": "[encoded data removed]",
      "text/plain": [
       "<Figure size 432x288 with 1 Axes>"
      ]
     },
     "metadata": {
      "needs_background": "light"
     },
     "output_type": "display_data"
    }
   ],
   "source": [
    "import seaborn as sns\n",
    "sns.boxplot(x=\"type\", y=\"densities\", hue=\"pRand\", data=df) "
   ]
  },
  {
   "cell_type": "code",
   "execution_count": 27,
   "metadata": {},
   "outputs": [],
   "source": [
    "df.to_csv(\"test.csv\")"
   ]
  },
  {
   "cell_type": "code",
   "execution_count": 19,
   "metadata": {},
   "outputs": [
    {
     "data": {
      "text/html": [
       "<div>\n",
       "<style scoped>\n",
       "    .dataframe tbody tr th:only-of-type {\n",
       "        vertical-align: middle;\n",
       "    }\n",
       "\n",
       "    .dataframe tbody tr th {\n",
       "        vertical-align: top;\n",
       "    }\n",
       "\n",
       "    .dataframe thead th {\n",
       "        text-align: right;\n",
       "    }\n",
       "</style>\n",
       "<table border=\"1\" class=\"dataframe\">\n",
       "  <thead>\n",
       "    <tr style=\"text-align: right;\">\n",
       "      <th></th>\n",
       "      <th>sum_sq</th>\n",
       "      <th>df</th>\n",
       "      <th>F</th>\n",
       "      <th>PR(&gt;F)</th>\n",
       "    </tr>\n",
       "  </thead>\n",
       "  <tbody>\n",
       "    <tr>\n",
       "      <th>C(type)</th>\n",
       "      <td>0.054866</td>\n",
       "      <td>1.0</td>\n",
       "      <td>18.462466</td>\n",
       "      <td>1.948412e-05</td>\n",
       "    </tr>\n",
       "    <tr>\n",
       "      <th>C(pRand)</th>\n",
       "      <td>1.275913</td>\n",
       "      <td>3.0</td>\n",
       "      <td>143.116637</td>\n",
       "      <td>4.287409e-74</td>\n",
       "    </tr>\n",
       "    <tr>\n",
       "      <th>C(type):C(pRand)</th>\n",
       "      <td>0.361927</td>\n",
       "      <td>3.0</td>\n",
       "      <td>40.596663</td>\n",
       "      <td>2.077828e-24</td>\n",
       "    </tr>\n",
       "    <tr>\n",
       "      <th>Residual</th>\n",
       "      <td>2.353612</td>\n",
       "      <td>792.0</td>\n",
       "      <td>NaN</td>\n",
       "      <td>NaN</td>\n",
       "    </tr>\n",
       "  </tbody>\n",
       "</table>\n",
       "</div>"
      ],
      "text/plain": [
       "                    sum_sq     df           F        PR(>F)\n",
       "C(type)           0.054866    1.0   18.462466  1.948412e-05\n",
       "C(pRand)          1.275913    3.0  143.116637  4.287409e-74\n",
       "C(type):C(pRand)  0.361927    3.0   40.596663  2.077828e-24\n",
       "Residual          2.353612  792.0         NaN           NaN"
      ]
     },
     "execution_count": 19,
     "metadata": {},
     "output_type": "execute_result"
    }
   ],
   "source": [
    "import statsmodels.api as sm\n",
    "from statsmodels.formula.api import ols\n",
    "model = ols('densities ~ C(type) + C(pRand) + C(type):C(pRand)', data=df).fit()\n",
    "anova_table = sm.stats.anova_lm(model, typ=2)\n",
    "anova_table"
   ]
  },
  {
   "cell_type": "code",
   "execution_count": null,
   "metadata": {},
   "outputs": [],
   "source": []
  },
  {
   "cell_type": "code",
   "execution_count": 20,
   "metadata": {},
   "outputs": [
    {
     "data": {
      "image/png": "[encoded data removed]",
      "text/plain": [
       "<Figure size 432x288 with 1 Axes>"
      ]
     },
     "metadata": {
      "needs_background": "light"
     },
     "output_type": "display_data"
    }
   ],
   "source": [
    "nodesIntermedMean = np.zeros((len(pR),1))\n",
    "nodesIntermedStd = np.zeros((len(pR),1))\n",
    "markers = ['o','v','>','<']\n",
    "colors = ['blue','orange','green','red']\n",
    "\n",
    "for ind,p in enumerate(pR):\n",
    "    nodesIntermedMean[ind] = np.mean(nodesIntermed[p])\n",
    "    nodesIntermedStd[ind] = np.std(nodesIntermed[p])   \n",
    "\n",
    "plt.plot(pR,nodesIntermedMean,color='grey',linewidth=2,label='Intermediate nodes')\n",
    "plt.xticks(pR)\n",
    "#plt.yticks([0,0.05,0.1,0.15,0.2,0.25,0.3,0.35,0.4])\n",
    "plt.ylim([0,35])  \n",
    "#plt.legend()\n",
    "for ind in np.arange(len(nodesIntermedMean)):\n",
    "    plt.errorbar(pR[ind],nodesIntermedMean[ind],nodesIntermedStd[ind],marker= markers[ind],color=colors[ind],linewidth=2)\n",
    "\n",
    "filePathPlot = 'data/03_figures/convdiv/NumNodesIntermed'+str(inOutThresh)+'.eps'    \n",
    "\n",
    "plt.savefig(filePathPlot, format='eps', dpi=1200)\n"
   ]
  },
  {
   "cell_type": "code",
   "execution_count": null,
   "metadata": {},
   "outputs": [],
   "source": []
  }
 ],
 "metadata": {
  "kernelspec": {
   "display_name": "Python 3 (ipykernel)",
   "language": "python",
   "name": "python3"
  },
  "language_info": {
   "codemirror_mode": {
    "name": "ipython",
    "version": 3
   },
   "file_extension": ".py",
   "mimetype": "text/x-python",
   "name": "python",
   "nbconvert_exporter": "python",
   "pygments_lexer": "ipython3",
   "version": "3.7.0"
  },
  "toc": {
   "base_numbering": 1,
   "nav_menu": {},
   "number_sections": true,
   "sideBar": true,
   "skip_h1_title": false,
   "title_cell": "Table of Contents",
   "title_sidebar": "Contents",
   "toc_cell": false,
   "toc_position": {},
   "toc_section_display": true,
   "toc_window_display": false
  },
  "varInspector": {
   "cols": {
    "lenName": 16,
    "lenType": 16,
    "lenVar": 40
   },
   "kernels_config": {
    "python": {
     "delete_cmd_postfix": "",
     "delete_cmd_prefix": "del ",
     "library": "var_list.py",
     "varRefreshCmd": "print(var_dic_list())"
    },
    "r": {
     "delete_cmd_postfix": ") ",
     "delete_cmd_prefix": "rm(",
     "library": "var_list.r",
     "varRefreshCmd": "cat(var_dic_list()) "
    }
   },
   "types_to_exclude": [
    "module",
    "function",
    "builtin_function_or_method",
    "instance",
    "_Feature"
   ],
   "window_display": false
  }
 },
 "nbformat": 4,
 "nbformat_minor": 2
}
