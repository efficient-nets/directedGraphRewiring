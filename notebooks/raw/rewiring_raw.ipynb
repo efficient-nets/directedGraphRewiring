{
 "cells": [
  {
   "cell_type": "code",
   "execution_count": 1,
   "metadata": {},
   "outputs": [],
   "source": [
    "import numpy as np\n",
    "import os\n",
    "#Visualizations\n",
    "import matplotlib.pyplot as plt\n",
    "import random\n",
    "from datetime import datetime\n",
    "import itertools\n",
    "import scipy as sp\n",
    "from scipy import linalg\n",
    "import time as tm"
   ]
  },
  {
   "cell_type": "markdown",
   "metadata": {},
   "source": [
    "## Functions"
   ]
  },
  {
   "cell_type": "code",
   "execution_count": 2,
   "metadata": {},
   "outputs": [],
   "source": [
    "#generateRandA creates a directed random matrix\n",
    "#Input:\n",
    "#vertices: # of vertices\n",
    "#edges: # of edges (nonzero entries on the random matrix)\n",
    "#weightDistribution: could be 'binary', 'normal' or 'lognormal'\n",
    "#mu = the mu parameter, is not valid for binary\n",
    "#sig = the sig parameter, is not valid for binary\n",
    "#Output:\n",
    "#A: the verticesXvertices random digraph\n",
    "#\n",
    "\n",
    "def generateRandA(vertices, edges, **kwargs):\n",
    "\n",
    "    for key, value in kwargs.items():\n",
    "        if key == 'weightDistribution':\n",
    "            weightDistribution = value\n",
    "        elif key == 'mu':\n",
    "            mu = value\n",
    "        elif key == 'sig':\n",
    "            sig = value\n",
    "\n",
    "    maxConnections = int(vertices * (vertices - 1))  # the maximum connections a network can have\n",
    "    epsilon = 0.05\n",
    "    if edges > maxConnections or edges < 0:\n",
    "        print('The number of edges are not within the permitted range')\n",
    "        return -1\n",
    "\n",
    "    # I use lognormal for the time being. We can make it into a parameter\n",
    "    if weightDistribution == 'lognormal':\n",
    "        if ('mu' not in locals())|('sig' not in locals()):\n",
    "            mu, sig = 0., 1.\n",
    "\n",
    "        randWeights = np.random.lognormal(mean=mu, sigma=sig, size=edges)\n",
    "    \n",
    "    elif weightDistribution == 'normal':\n",
    "        if ('mu' not in locals())|('sig' not in locals()):\n",
    "            mu, sig = 1., 0.25\n",
    "\n",
    "        randWeights = np.random.normal(loc=mu, scale=sig, size=edges)\n",
    "        ind = np.where(randWeights < 0)\n",
    "        randWeights[ind] = epsilon\n",
    "\n",
    "    elif weightDistribution == 'binary':\n",
    "        randWeights = np.ones(edges)\n",
    "\n",
    "    # normRandWeights = randWeights / np.max(randWeights)  # normalize so that the values are between 0 and 1\n",
    "    # Normalize so that the sum of the weights equals the number of edges\n",
    "    if (weightDistribution == 'normal')|(weightDistribution == 'lognormal'):\n",
    "        normFactor = len(randWeights) / np.sum(randWeights)\n",
    "        normRandWeights = randWeights * normFactor\n",
    "    else:\n",
    "        normRandWeights = randWeights\n",
    "\n",
    "    # Get the indices of 1s of a matrix the same size as A with 1s everywhere except in the diagonal\n",
    "    Aones = np.ones((vertices, vertices)) - np.eye(vertices)\n",
    "    ind = np.where(Aones)\n",
    "    # Get a random sample of those indices (#edges)\n",
    "    xxRand = np.random.permutation(maxConnections)\n",
    "    indRand = (ind[0][xxRand[:edges]], ind[1][xxRand[:edges]])\n",
    "    # construct with those indices the adjacency matrix\n",
    "    A = np.zeros((vertices, vertices))\n",
    "    A[indRand] = normRandWeights\n",
    "\n",
    "\n",
    "    return A\n"
   ]
  },
  {
   "cell_type": "code",
   "execution_count": 3,
   "metadata": {},
   "outputs": [],
   "source": [
    "# rewireOutConsensus rewires iteratively a matrix A. At each iteration the rewiring can be random \n",
    "#(probability= pRandRewire) or according to a consensus function (probability = 1-pRandRewire).\n",
    "#It rewires only the OUTDEGREES. More specifically, during each rewiring iteration a random node k is selected\n",
    "#and one of its outdegrees is cut, and a connection is added with the head being k. It operates in the columns\n",
    "#Works for both binary and weighted initial networks since this implementation just redistributes the weights\n",
    "# INPUT\n",
    "# AInit: initial adjacency matrix\n",
    "# pRandRewire: probability of random rewiring\n",
    "# rewirings: number of iterations the wiring take place\n",
    "# tau: heat dispersion parameter\n",
    "# OUTPUT\n",
    "# A: returns a rewired matrix\n",
    "def rewireOutConsensus(AInit, pRandRewire, rewirings, tau):\n",
    "\n",
    "    A = AInit.copy()\n",
    "\n",
    "    vertices = A.shape[0]\n",
    "    I = 1.0 * np.eye(vertices)\n",
    "\n",
    "    for k in range(rewirings):\n",
    "\n",
    "        degIn = np.sum(A > 0, axis=0, keepdims=False)  # deg[i] = # of incoming connections to the i+1 node\n",
    "        degOut = np.sum(A > 0, axis=1, keepdims=False)  # deg[i] = # of outgoing connections from the i+1 node\n",
    "        \n",
    "        ## take the indices of the nodes with nonzero but not numofVertices degree for both in and out-degree\n",
    "        vNonZeroInInd = np.where((degIn > 0) & (degIn < vertices - 1))  \n",
    "        vNonZeroOutInd = np.where((degOut > 0) & (degOut < vertices - 1)) \n",
    "        \n",
    "        vNonZeroInd = np.intersect1d(vNonZeroInInd[0],vNonZeroOutInd[0])\n",
    "        if (len(vNonZeroInd) == 0):\n",
    "            print('For tau = %f, and p(rand) = %f,the graph is problematic' % (tau, pRandRewire))\n",
    "            return A\n",
    "        \n",
    "        vRandInd = np.random.choice(vNonZeroInd)  # pick one of those indices at random\n",
    "\n",
    "        indAll = np.arange(vertices)  # 0:vertices-1\n",
    "        indMinusV = np.delete(indAll, vRandInd)  # remove the vRandInd index, ie for VRandInd=2 indMinusV = 0,1,3,..\n",
    "        \n",
    "        #for the outdegrees\n",
    "        ANotVCol = 1.0 * np.logical_not(A[indMinusV, vRandInd])  # take the actual vector and make inversions 0->1 and 1->0\n",
    "                \n",
    "        if np.random.random_sample() >= pRandRewire:  # rewire by network diffusion\n",
    "\n",
    "            #estimate the in degree Laplacian and calculate the consensus kernel\n",
    "            DinVec = np.sum(A,axis=0); Din = np.diag(DinVec); Lin = Din - A\n",
    "            h = linalg.expm(-tau * Lin)  # consensus kernel\n",
    "\n",
    "            #for the out-degrees\n",
    "            indTestableOut = np.where(A[:, vRandInd] > 0)[0]  # do not include the 0s\n",
    "            u1TestableOut = np.argmin(h[indTestableOut, vRandInd])  # check the consenus kernel minimum value of the nodes connected to vRandInd\n",
    "            #print('min of connected is ',np.min(h[indTestableOut, vRandInd]))\n",
    "            u1Out = indTestableOut[u1TestableOut]\n",
    "            \n",
    "            indANotVCol = np.where(ANotVCol > 0)[0]\n",
    "            indNotConnectedOut = indMinusV[indANotVCol]\n",
    "            u2IndTempOut = np.argmax(h[indNotConnectedOut, vRandInd])  # what would happen if the ones that were connected to vRandInd were connected to it and was applied to them the heat kernel. Get the ind of the maximum from those nodes. this will be used for reconnection\n",
    "            #print('max of disconnected is',np.max(h[indNotConnectedOut, vRandInd]))\n",
    "            #print('')\n",
    "            u2Out = indNotConnectedOut[u2IndTempOut]  # get the right u2 node\n",
    "            \n",
    "                        \n",
    "        else:  # now we just randomly rewire\n",
    "            noConnIndexOut = np.argwhere(ANotVCol)\n",
    "            u2IndTempOut = noConnIndexOut[np.random.choice(noConnIndexOut.size)][0]\n",
    "            u2Out = indMinusV[u2IndTempOut]  # pick randomly a nonconnection to vRandInd node\n",
    "\n",
    "            AOnesIndOut = np.argwhere(A[:, vRandInd] > 0)\n",
    "            u1Out = AOnesIndOut[np.random.choice(AOnesIndOut.size)][0]  # pick randomly a connected node to vRandInd\n",
    "\n",
    "        if u1Out == u2Out:\n",
    "            print('Problem')\n",
    "            print('The A nodes rewired are %d and %d with weight %f' % (u2Out, vRandInd, A[u1Out, vRandInd]))\n",
    "            print('The A nodes disconnected are %d and %d' % (u1Out, vRandInd))\n",
    "        A[u2Out, vRandInd] = A[u1Out, vRandInd]\n",
    "        A[u1Out, vRandInd] = 0\n",
    "\n",
    "        \n",
    "    return A"
   ]
  },
  {
   "cell_type": "code",
   "execution_count": 4,
   "metadata": {},
   "outputs": [],
   "source": [
    "# rewireInConsensus rewires iteratively a matrix A. At each iteration the rewiring can be random \n",
    "#(probability= pRandRewire) or according to a consensus function (probability = 1-pRandRewire).\n",
    "#It rewires only the INDEGREES. More specifically, during each rewiring iteration a random node k is selected\n",
    "#and one of its indegrees is cut, and a connection is added with the tail being k. It operates in the rows\n",
    "# INPUT\n",
    "# AInit: initial adjacency matrix\n",
    "# pRandRewire: probability of random rewiring\n",
    "# rewirings: number of iterations the wiring take place\n",
    "# tau: heat dispersion parameter\n",
    "# OUTPUT\n",
    "# A: returns a rewired symmetric matrix\n",
    "def rewireInConsensus(AInit, pRandRewire, rewirings, tau):\n",
    "\n",
    "    A = AInit.copy()\n",
    "\n",
    "    vertices = A.shape[0]\n",
    "    I = 1.0 * np.eye(vertices)\n",
    "\n",
    "    for k in range(rewirings):\n",
    "\n",
    "        degIn = np.sum(A > 0, axis=0, keepdims=False)  # deg[i] = # of incoming connections to the i+1 node\n",
    "        degOut = np.sum(A > 0, axis=1, keepdims=False)  # deg[i] = # of outgoing connections from the i+1 node\n",
    "        \n",
    "        ## take the indices of the nodes with nonzero but not numofVertices degree for both in and out-degree\n",
    "        vNonZeroInInd = np.where((degIn > 0) & (degIn < vertices - 1))  \n",
    "        vNonZeroOutInd = np.where((degOut > 0) & (degOut < vertices - 1)) \n",
    "        \n",
    "        vNonZeroInd = np.intersect1d(vNonZeroInInd[0],vNonZeroOutInd[0])\n",
    "        if (len(vNonZeroInd) == 0):\n",
    "            print('For tau = %f, and p(rand) = %f,the graph is problematic' % (tau, pRandRewire))\n",
    "            return A\n",
    "        \n",
    "        vRandInd = np.random.choice(vNonZeroInd)  # pick one of those indices at random\n",
    "\n",
    "        indAll = np.arange(vertices)  # 0:vertices-1\n",
    "        indMinusV = np.delete(indAll, vRandInd)  # remove the vRandInd index, ie for VRandInd=2 indMinusV = 0,1,3,..\n",
    "        \n",
    "        #for the indegrees\n",
    "        ANotVRow = 1.0 * np.logical_not(A[vRandInd,indMinusV])\n",
    "                \n",
    "        if np.random.random_sample() >= pRandRewire:  # rewire by network diffusion\n",
    "\n",
    "            #estimate the in degree Laplacian and calculate the consensus kernel\n",
    "            DinVec = np.sum(A,axis=0); Din = np.diag(DinVec); Lin = Din - A\n",
    "            h = linalg.expm(-tau * Lin)  # consensus kernel\n",
    "\n",
    "            #for the in-degrees\n",
    "            indTestableIn = np.where(A[vRandInd,:] > 0)[0]  # do not include the 0s\n",
    "            u1TestableIn = np.argmin(h[vRandInd, indTestableIn])  # check the consenus kernel minimum value of the nodes connected to vRandInd\n",
    "            #print('min of connected is ',np.min(h[vRandInd, indTestableIn]))\n",
    "            u1In = indTestableIn[u1TestableIn]\n",
    "            \n",
    "            indANotVRow = np.where(ANotVRow > 0)[0]\n",
    "            indNotConnectedIn = indMinusV[indANotVRow]\n",
    "            u2IndTempIn = np.argmax(h[vRandInd,indNotConnectedIn])  # what would happen if the ones that were connected to vRandInd were connected to it and was applied to them the heat kernel. Get the ind of the maximum from those nodes. this will be used for reconnection\n",
    "            #print('max of disconnected is',np.max(h[vRandInd,indNotConnectedIn]))\n",
    "            #print('')\n",
    "            u2In = indNotConnectedIn[u2IndTempIn]  # get the right u2 node    \n",
    "                        \n",
    "        else:  # now we just randomly rewire\n",
    "            noConnIndexIn = np.argwhere(ANotVRow)\n",
    "            u2IndTempIn = noConnIndexIn[np.random.choice(noConnIndexIn.size)][0]\n",
    "            u2In = indMinusV[u2IndTempIn]  # pick randomly a nonconnection to vRandInd node\n",
    "\n",
    "            AOnesIndIn = np.argwhere(A[vRandInd,:] > 0)\n",
    "            u1In = AOnesIndIn[np.random.choice(AOnesIndIn.size)][0]  # pick randomly a connected node to vRandInd\n",
    "\n",
    "        if u1In == u2In:\n",
    "            print('Problem')\n",
    "            print('The A nodes rewired are %d and %d with weight %f' % (u2In, vRandInd, A[u1In, vRandInd]))\n",
    "            print('The A nodes disconnected are %d and %d' % (u1In, vRandInd))\n",
    "        \n",
    "        #cut and rewire in-degree\n",
    "        A[vRandInd,u2In] = A[vRandInd,u1In]\n",
    "        A[vRandInd,u1In] = 0\n",
    "\n",
    "        \n",
    "    return A"
   ]
  },
  {
   "cell_type": "code",
   "execution_count": 5,
   "metadata": {},
   "outputs": [],
   "source": [
    "# rewireOutConsensus rewires iteratively a matrix A. At each iteration the rewiring can be random \n",
    "#(probability= pRandRewire) or according to a consensus function (probability = 1-pRandRewire).\n",
    "#It rewires both the OUTDEGREES and INDEGREES \n",
    "# INPUT\n",
    "# AInit: initial adjacency matrix\n",
    "# pRandRewire: probability of random rewiring\n",
    "# rewirings: number of iterations the wiring take place\n",
    "# tau: heat dispersion parameter\n",
    "# OUTPUT\n",
    "# A: returns a rewired symmetric matrix\n",
    "def rewireInAndOutConsensus(AInit, pRandRewire, rewirings, tau):\n",
    "\n",
    "    A = AInit.copy()\n",
    "\n",
    "    vertices = A.shape[0]\n",
    "    I = 1.0 * np.eye(vertices)\n",
    "\n",
    "    for k in range(rewirings):\n",
    "\n",
    "        degIn = np.sum(A > 0, axis=0, keepdims=False)  # deg[i] = # of incoming connections to the i+1 node\n",
    "        degOut = np.sum(A > 0, axis=1, keepdims=False)  # deg[i] = # of outgoing connections from the i+1 node\n",
    "        \n",
    "        ## take the indices of the nodes with nonzero but not numofVertices degree for both in and out-degree\n",
    "        vNonZeroInInd = np.where((degIn > 0) & (degIn < vertices - 1))  \n",
    "        vNonZeroOutInd = np.where((degOut > 0) & (degOut < vertices - 1)) \n",
    "        \n",
    "        vNonZeroInd = np.intersect1d(vNonZeroInInd[0],vNonZeroOutInd[0])\n",
    "        if (len(vNonZeroInd) == 0):\n",
    "            print('For tau = %f, and p(rand) = %f,the graph is problematic' % (tau, pRandRewire))\n",
    "            return A\n",
    "        \n",
    "        vRandInd = np.random.choice(vNonZeroInd)  # pick one of those indices at random\n",
    "\n",
    "        indAll = np.arange(vertices)  # 0:vertices-1\n",
    "        indMinusV = np.delete(indAll, vRandInd)  # remove the vRandInd index, ie for VRandInd=2 indMinusV = 0,1,3,..\n",
    "        \n",
    "        #for the outdegrees\n",
    "        ANotVCol = 1.0 * np.logical_not(A[indMinusV, vRandInd])  # take the actual vector and make inversions 0->1 and 1->0\n",
    "        #for the indegrees\n",
    "        ANotVRow = 1.0 * np.logical_not(A[vRandInd,indMinusV])\n",
    "                \n",
    "        if np.random.random_sample() >= pRandRewire:  # rewire by network diffusion\n",
    "\n",
    "            #estimate the in degree Laplacian and calculate the consensus kernel\n",
    "            DinVec = np.sum(A,axis=0); Din = np.diag(DinVec); Lin = Din - A\n",
    "            h = linalg.expm(-tau * Lin)  # consensus kernel\n",
    "            \n",
    "            ##########REWIRING FOR THE IN-DEGREE OF THE V_RAND_IND NODE (ROWISE)#############################\n",
    "            #for the in-degrees\n",
    "            indTestableIn = np.where(A[vRandInd,:] > 0)[0]  # do not include the 0s\n",
    "            u1TestableIn = np.argmin(h[vRandInd, indTestableIn])  # check the consenus kernel minimum value of the nodes connected to vRandInd\n",
    "            #print('min of connected is ',np.min(h[vRandInd, indTestableIn]))\n",
    "            u1In = indTestableIn[u1TestableIn]\n",
    "            \n",
    "            indANotVRow = np.where(ANotVRow > 0)[0]\n",
    "            indNotConnectedIn = indMinusV[indANotVRow]\n",
    "            u2IndTempIn = np.argmax(h[vRandInd,indNotConnectedIn])  # what would happen if the ones that were connected to vRandInd were connected to it and was applied to them the heat kernel. Get the ind of the maximum from those nodes. this will be used for reconnection\n",
    "            #print('max of disconnected is',np.max(h[vRandInd,indNotConnectedIn]))\n",
    "            u2In = indNotConnectedIn[u2IndTempIn]  # get the right u2 node\n",
    "            \n",
    "            ####REWIRING FOR THE OUT-DEGREE OF THE V_RAND_IND NODE (COLUMNWISE)#############################  \n",
    "            #for the out-degrees\n",
    "            indTestableOut = np.where(A[:, vRandInd] > 0)[0]  # do not include the 0s\n",
    "            u1TestableOut = np.argmin(h[indTestableOut, vRandInd])  # check the consenus kernel minimum value of the nodes connected to vRandInd\n",
    "            #print('min of connected is ',np.min(h[indTestableOut, vRandInd]))\n",
    "            u1Out = indTestableOut[u1TestableOut]\n",
    "            \n",
    "            indANotVCol = np.where(ANotVCol > 0)[0]\n",
    "            indNotConnectedOut = indMinusV[indANotVCol]\n",
    "            u2IndTempOut = np.argmax(h[indNotConnectedOut, vRandInd])  # what would happen if the ones that were connected to vRandInd were connected to it and was applied to them the heat kernel. Get the ind of the maximum from those nodes. this will be used for reconnection\n",
    "            #print('max of disconnected is',np.max(h[indNotConnectedOut, vRandInd]))\n",
    "            #print('')\n",
    "            u2Out = indNotConnectedOut[u2IndTempOut]  # get the right u2 node            \n",
    "            \n",
    "            \n",
    "                                    \n",
    "        else:  # or randomly rewire\n",
    "            \n",
    "            ##########REWIRING FOR THE IN-DEGREE\n",
    "            noConnIndexIn = np.argwhere(ANotVRow)\n",
    "            u2IndTempIn = noConnIndexIn[np.random.choice(noConnIndexIn.size)][0]\n",
    "            u2In = indMinusV[u2IndTempIn]  # pick randomly a nonconnection to vRandInd node\n",
    "\n",
    "            AOnesIndIn = np.argwhere(A[vRandInd,:] > 0)\n",
    "            u1In = AOnesIndIn[np.random.choice(AOnesIndIn.size)][0]  # pick randomly a connected node to vRandInd\n",
    "\n",
    "            ##########REWIRING FOR THE OUT-DEGREE\n",
    "            noConnIndexOut = np.argwhere(ANotVCol)\n",
    "            u2IndTempOut = noConnIndexOut[np.random.choice(noConnIndexOut.size)][0]\n",
    "            u2Out = indMinusV[u2IndTempOut]  # pick randomly a nonconnection to vRandInd node\n",
    "\n",
    "            AOnesIndOut = np.argwhere(A[:, vRandInd] > 0)\n",
    "            u1Out = AOnesIndOut[np.random.choice(AOnesIndOut.size)][0]  # pick randomly a connected node to vRandInd\n",
    "            \n",
    "            \n",
    "        if (u1In == u2In)| (u1Out == u2Out):\n",
    "            print('Problem')\n",
    "            \n",
    "        #cut and rewire in-degree\n",
    "        A[vRandInd,u2In] = A[vRandInd,u1In]\n",
    "        A[vRandInd,u1In] = 0\n",
    "        \n",
    "        #cut and rewire out-degree\n",
    "        A[u2Out, vRandInd] = A[u1Out, vRandInd]\n",
    "        A[u1Out, vRandInd] = 0\n",
    "\n",
    "        \n",
    "    return A"
   ]
  },
  {
   "cell_type": "markdown",
   "metadata": {},
   "source": [
    "## Example of the three different rewiring versions"
   ]
  },
  {
   "cell_type": "code",
   "execution_count": 6,
   "metadata": {},
   "outputs": [
    {
     "name": "stdout",
     "output_type": "stream",
     "text": [
      "912\n"
     ]
    }
   ],
   "source": [
    "vertices = 100\n",
    "edges = int(np.round(2 * np.log(vertices) * (vertices - 1), decimals=0))\n",
    "#edges = int(np.round(np.log(vertices) * (vertices - 1)/2, decimals=0))\n",
    "print(edges)\n",
    "\n",
    "rewirings= 10000\n",
    "pRand = 0\n",
    "tau = 100\n",
    "\n",
    "ARand = generateRandA(vertices, edges, weightDistribution = 'binary')\n",
    "\n",
    "AOut = rewireOutConsensus(ARand, pRand, rewirings, tau)\n",
    "\n",
    "AIn = rewireInConsensus(ARand, pRand, rewirings, tau)\n",
    "\n",
    "A = rewireInAndOutConsensus(ARand, pRand, rewirings, tau)\n"
   ]
  },
  {
   "cell_type": "code",
   "execution_count": 7,
   "metadata": {},
   "outputs": [
    {
     "data": {
      "image/png": "[encoded data removed]",
      "text/plain": [
       "<Figure size 1440x720 with 4 Axes>"
      ]
     },
     "metadata": {
      "needs_background": "light"
     },
     "output_type": "display_data"
    }
   ],
   "source": [
    "plt.rcParams['figure.figsize'] = [20, 10]\n",
    "\n",
    "plt.subplot(1,4,1)\n",
    "plt.imshow(ARand, cmap='Greys')\n",
    "\n",
    "plt.subplot(1,4,2)\n",
    "plt.imshow(AOut, cmap='Greys')\n",
    "\n",
    "plt.subplot(1,4,3)\n",
    "plt.imshow(AIn, cmap='Greys')\n",
    "\n",
    "plt.subplot(1,4,4)\n",
    "plt.imshow(A, cmap='Greys')\n",
    "\n",
    "plt.show()"
   ]
  },
  {
   "cell_type": "code",
   "execution_count": null,
   "metadata": {},
   "outputs": [],
   "source": []
  },
  {
   "cell_type": "code",
   "execution_count": 8,
   "metadata": {},
   "outputs": [
    {
     "data": {
      "text/plain": [
       "(array([ 1.,  5., 15.,  9., 26., 25.,  6.,  9.,  1.,  3.]),\n",
       " array([ 1. ,  2.7,  4.4,  6.1,  7.8,  9.5, 11.2, 12.9, 14.6, 16.3, 18. ]),\n",
       " <a list of 10 Patch objects>)"
      ]
     },
     "execution_count": 8,
     "metadata": {},
     "output_type": "execute_result"
    },
    {
     "data": {
      "image/png": "[encoded data removed]",
      "text/plain": [
       "<Figure size 1440x360 with 2 Axes>"
      ]
     },
     "metadata": {
      "needs_background": "light"
     },
     "output_type": "display_data"
    }
   ],
   "source": [
    "plt.rcParams['figure.figsize'] = [20, 5]\n",
    "\n",
    "plt.subplot(1,2,1)\n",
    "plt.hist(np.sum(ARand,axis=1))\n",
    "\n",
    "plt.subplot(1,2,2)\n",
    "plt.hist(np.sum(ARand,axis=0))"
   ]
  },
  {
   "cell_type": "code",
   "execution_count": 9,
   "metadata": {},
   "outputs": [
    {
     "data": {
      "text/plain": [
       "(array([ 8., 10., 41., 18., 14.,  8.,  0.,  0.,  0.,  1.]),\n",
       " array([ 5. ,  6.4,  7.8,  9.2, 10.6, 12. , 13.4, 14.8, 16.2, 17.6, 19. ]),\n",
       " <a list of 10 Patch objects>)"
      ]
     },
     "execution_count": 9,
     "metadata": {},
     "output_type": "execute_result"
    },
    {
     "data": {
      "image/png": "[encoded data removed]",
      "text/plain": [
       "<Figure size 1440x360 with 2 Axes>"
      ]
     },
     "metadata": {
      "needs_background": "light"
     },
     "output_type": "display_data"
    }
   ],
   "source": [
    "plt.rcParams['figure.figsize'] = [20, 5]\n",
    "\n",
    "plt.subplot(1,2,1)\n",
    "plt.hist(np.sum(AIn,axis=1))\n",
    "\n",
    "plt.subplot(1,2,2)\n",
    "plt.hist(np.sum(AIn,axis=0))"
   ]
  },
  {
   "cell_type": "code",
   "execution_count": 10,
   "metadata": {},
   "outputs": [
    {
     "data": {
      "text/plain": [
       "(array([ 1.,  5., 15.,  9., 26., 25.,  6.,  9.,  1.,  3.]),\n",
       " array([ 1. ,  2.7,  4.4,  6.1,  7.8,  9.5, 11.2, 12.9, 14.6, 16.3, 18. ]),\n",
       " <a list of 10 Patch objects>)"
      ]
     },
     "execution_count": 10,
     "metadata": {},
     "output_type": "execute_result"
    },
    {
     "data": {
      "image/png": "[encoded data removed]",
      "text/plain": [
       "<Figure size 1440x360 with 2 Axes>"
      ]
     },
     "metadata": {
      "needs_background": "light"
     },
     "output_type": "display_data"
    }
   ],
   "source": [
    "plt.rcParams['figure.figsize'] = [20, 5]\n",
    "\n",
    "plt.subplot(1,2,1)\n",
    "plt.hist(np.sum(AOut,axis=1))\n",
    "\n",
    "plt.subplot(1,2,2)\n",
    "plt.hist(np.sum(AOut,axis=0))"
   ]
  },
  {
   "cell_type": "code",
   "execution_count": 11,
   "metadata": {},
   "outputs": [
    {
     "data": {
      "text/plain": [
       "(array([ 7.,  9.,  0., 11.,  0., 24., 38.,  0.,  9.,  2.]),\n",
       " array([ 6. ,  6.6,  7.2,  7.8,  8.4,  9. ,  9.6, 10.2, 10.8, 11.4, 12. ]),\n",
       " <a list of 10 Patch objects>)"
      ]
     },
     "execution_count": 11,
     "metadata": {},
     "output_type": "execute_result"
    },
    {
     "data": {
      "image/png": "[encoded data removed]",
      "text/plain": [
       "<Figure size 1440x360 with 2 Axes>"
      ]
     },
     "metadata": {
      "needs_background": "light"
     },
     "output_type": "display_data"
    }
   ],
   "source": [
    "plt.rcParams['figure.figsize'] = [20, 5]\n",
    "\n",
    "plt.subplot(1,2,1)\n",
    "plt.hist(np.sum(A,axis=1))\n",
    "\n",
    "plt.subplot(1,2,2)\n",
    "plt.hist(np.sum(A,axis=0))"
   ]
  },
  {
   "cell_type": "code",
   "execution_count": 12,
   "metadata": {},
   "outputs": [
    {
     "data": {
      "text/plain": [
       "(array([ 1.,  5., 15.,  9., 26., 25.,  6.,  9.,  1.,  3.]),\n",
       " array([ 1. ,  2.7,  4.4,  6.1,  7.8,  9.5, 11.2, 12.9, 14.6, 16.3, 18. ]),\n",
       " <a list of 10 Patch objects>)"
      ]
     },
     "execution_count": 12,
     "metadata": {},
     "output_type": "execute_result"
    },
    {
     "data": {
      "image/png": "[encoded data removed]",
      "text/plain": [
       "<Figure size 1440x360 with 2 Axes>"
      ]
     },
     "metadata": {
      "needs_background": "light"
     },
     "output_type": "display_data"
    }
   ],
   "source": [
    "plt.rcParams['figure.figsize'] = [20, 5]\n",
    "\n",
    "plt.subplot(1,2,1)\n",
    "plt.hist(np.sum(ARand,axis=0))\n",
    "\n",
    "plt.subplot(1,2,2)\n",
    "plt.hist(np.sum(AOut,axis=0))"
   ]
  },
  {
   "cell_type": "code",
   "execution_count": 13,
   "metadata": {},
   "outputs": [
    {
     "data": {
      "text/plain": [
       "(array([ 1.,  5.,  7., 16., 14., 15., 19.,  9.,  5.,  9.]),\n",
       " array([ 2. ,  3.3,  4.6,  5.9,  7.2,  8.5,  9.8, 11.1, 12.4, 13.7, 15. ]),\n",
       " <a list of 10 Patch objects>)"
      ]
     },
     "execution_count": 13,
     "metadata": {},
     "output_type": "execute_result"
    },
    {
     "data": {
      "image/png": "[encoded data removed]",
      "text/plain": [
       "<Figure size 1440x360 with 2 Axes>"
      ]
     },
     "metadata": {
      "needs_background": "light"
     },
     "output_type": "display_data"
    }
   ],
   "source": [
    "plt.rcParams['figure.figsize'] = [20, 5]\n",
    "\n",
    "plt.subplot(1,2,1)\n",
    "plt.hist(np.sum(ARand,axis=1))\n",
    "\n",
    "plt.subplot(1,2,2)\n",
    "plt.hist(np.sum(AIn,axis=1))"
   ]
  },
  {
   "cell_type": "code",
   "execution_count": 14,
   "metadata": {},
   "outputs": [
    {
     "data": {
      "text/plain": [
       "array([0., 0., 0., 0., 0., 0., 0., 0., 0., 0., 0., 0., 0., 0., 0., 0., 0.,\n",
       "       0., 0., 0., 0., 0., 0., 0., 0., 0., 0., 0., 0., 0., 0., 0., 0., 0.,\n",
       "       0., 0., 0., 0., 0., 0., 0., 0., 0., 0., 0., 0., 0., 0., 0., 0., 0.,\n",
       "       0., 0., 0., 0., 0., 0., 0., 0., 0., 0., 0., 0., 0., 0., 0., 0., 0.,\n",
       "       0., 0., 0., 0., 0., 0., 0., 0., 0., 0., 0., 0., 0., 0., 0., 0., 0.,\n",
       "       0., 0., 0., 0., 0., 0., 0., 0., 0., 0., 0., 0., 0., 0., 0.])"
      ]
     },
     "execution_count": 14,
     "metadata": {},
     "output_type": "execute_result"
    }
   ],
   "source": [
    "np.sum(ARand,axis=0) - np.sum(AOut,axis=0)"
   ]
  },
  {
   "cell_type": "code",
   "execution_count": 15,
   "metadata": {},
   "outputs": [
    {
     "data": {
      "text/plain": [
       "array([0., 0., 0., 0., 0., 0., 0., 0., 0., 0., 0., 0., 0., 0., 0., 0., 0.,\n",
       "       0., 0., 0., 0., 0., 0., 0., 0., 0., 0., 0., 0., 0., 0., 0., 0., 0.,\n",
       "       0., 0., 0., 0., 0., 0., 0., 0., 0., 0., 0., 0., 0., 0., 0., 0., 0.,\n",
       "       0., 0., 0., 0., 0., 0., 0., 0., 0., 0., 0., 0., 0., 0., 0., 0., 0.,\n",
       "       0., 0., 0., 0., 0., 0., 0., 0., 0., 0., 0., 0., 0., 0., 0., 0., 0.,\n",
       "       0., 0., 0., 0., 0., 0., 0., 0., 0., 0., 0., 0., 0., 0., 0.])"
      ]
     },
     "execution_count": 15,
     "metadata": {},
     "output_type": "execute_result"
    }
   ],
   "source": [
    "np.sum(ARand,axis=1) - np.sum(AIn,axis=1)"
   ]
  },
  {
   "cell_type": "markdown",
   "metadata": {},
   "source": [
    "## Schematic example to understand the consensus kernel"
   ]
  },
  {
   "cell_type": "code",
   "execution_count": 16,
   "metadata": {},
   "outputs": [],
   "source": [
    "def plotHeat(tauVec,L):\n",
    "    \n",
    "    lenTau = len(tauVec)\n",
    "    cmap = 'viridis'\n",
    "    plt.rcParams['figure.figsize'] = [20, 10]\n",
    "\n",
    "    for ind,tau in enumerate(tauVec):\n",
    "    \n",
    "        h = linalg.expm(-tau * L)  # heat dispersion component\n",
    "        plt.subplot(1,lenTau,ind+1)\n",
    "        plt.imshow(h, cmap=cmap)\n",
    "        plt.colorbar(orientation='horizontal')\n",
    "        \n",
    "    plt.show()"
   ]
  },
  {
   "cell_type": "code",
   "execution_count": 17,
   "metadata": {},
   "outputs": [
    {
     "name": "stdout",
     "output_type": "stream",
     "text": [
      "[[0 0 0 0 0]\n",
      " [0 0 0 0 0]\n",
      " [1 0 0 0 0]\n",
      " [0 0 1 0 1]\n",
      " [0 0 1 0 0]]\n"
     ]
    }
   ],
   "source": [
    "#DRAW THE TOPOLOGY IN A PIECE OF PAPER TO UNDERSTAND WHY THEY DIFFUSE THE WAY THEY DO\n",
    "\n",
    "#A = np.array([[0,0,0,1,0],[1,0,0,0,0],[1,0,0,0,0],[0,1,1,0,1],[0,0,1,0,0]])\n",
    "\n",
    "#A = np.array([[0,0,0,0,0],[1,0,0,0,0],[1,0,0,0,0],[0,1,1,0,1],[0,0,1,0,0]])\n",
    "\n",
    "A = np.array([[0,0,0,0,0],[0,0,0,0,0],[1,0,0,0,0],[0,0,1,0,1],[0,0,1,0,0]])\n",
    "\n",
    "print(A)"
   ]
  },
  {
   "cell_type": "code",
   "execution_count": 18,
   "metadata": {},
   "outputs": [],
   "source": [
    "DinVec = np.sum(A,axis=0); Din = np.diag(DinVec); Lin = Din - A\n",
    "\n",
    "\n"
   ]
  },
  {
   "cell_type": "code",
   "execution_count": 19,
   "metadata": {},
   "outputs": [
    {
     "data": {
      "image/png": "[encoded data removed]",
      "text/plain": [
       "<Figure size 1440x720 with 12 Axes>"
      ]
     },
     "metadata": {
      "needs_background": "light"
     },
     "output_type": "display_data"
    }
   ],
   "source": [
    "tauVec = [0,0.1,0.5,1,2,40]\n",
    "\n",
    "plotHeat(tauVec,Lin)"
   ]
  },
  {
   "cell_type": "code",
   "execution_count": 20,
   "metadata": {},
   "outputs": [
    {
     "name": "stdout",
     "output_type": "stream",
     "text": [
      "[[0.36787944 0.         0.         0.         0.        ]\n",
      " [0.         1.         0.         0.         0.        ]\n",
      " [0.23254416 0.         0.13533528 0.         0.        ]\n",
      " [0.26424112 0.         0.63212056 1.         0.63212056]\n",
      " [0.13533528 0.         0.23254416 0.         0.36787944]]\n",
      "\n",
      "[[0.13533528 0.         0.         0.         0.        ]\n",
      " [0.         1.         0.         0.         0.        ]\n",
      " [0.11701964 0.         0.01831564 0.         0.        ]\n",
      " [0.59399415 0.         0.86466472 1.         0.86466472]\n",
      " [0.15365092 0.         0.11701964 0.         0.13533528]]\n",
      "\n",
      "[[4.24835426e-18 0.00000000e+00 0.00000000e+00 0.00000000e+00\n",
      "  0.00000000e+00]\n",
      " [0.00000000e+00 1.00000000e+00 0.00000000e+00 0.00000000e+00\n",
      "  0.00000000e+00]\n",
      " [4.24835426e-18 0.00000000e+00 1.80485139e-35 0.00000000e+00\n",
      "  0.00000000e+00]\n",
      " [1.00000000e+00 0.00000000e+00 1.00000000e+00 1.00000000e+00\n",
      "  1.00000000e+00]\n",
      " [1.65685816e-16 0.00000000e+00 4.24835426e-18 0.00000000e+00\n",
      "  4.24835426e-18]]\n"
     ]
    }
   ],
   "source": [
    "hIn = linalg.expm(-1 * Lin)\n",
    "print(hIn)\n",
    "\n",
    "hIn2 = linalg.expm(-2 * Lin)\n",
    "print()\n",
    "print(hIn2)\n",
    "\n",
    "hIn3 = linalg.expm(-40 * Lin)\n",
    "print()\n",
    "print(hIn3)"
   ]
  },
  {
   "cell_type": "code",
   "execution_count": 21,
   "metadata": {},
   "outputs": [
    {
     "data": {
      "text/plain": [
       "array([0.36787944, 1.        , 0.36787944, 2.52848224, 0.73575888])"
      ]
     },
     "execution_count": 21,
     "metadata": {},
     "output_type": "execute_result"
    }
   ],
   "source": [
    "# THE SUMS ALONG THE ROWS INDICATE THE CONCENTRATION OF EACH NODE\n",
    "\n",
    "np.sum(hIn,axis=1)"
   ]
  },
  {
   "cell_type": "code",
   "execution_count": 22,
   "metadata": {},
   "outputs": [
    {
     "data": {
      "text/plain": [
       "array([0.13533528, 1.        , 0.13533528, 3.32332358, 0.40600585])"
      ]
     },
     "execution_count": 22,
     "metadata": {},
     "output_type": "execute_result"
    }
   ],
   "source": [
    "np.sum(hIn2,axis=1)"
   ]
  },
  {
   "cell_type": "code",
   "execution_count": 23,
   "metadata": {},
   "outputs": [
    {
     "data": {
      "text/plain": [
       "array([4.24835426e-18, 1.00000000e+00, 4.24835426e-18, 4.00000000e+00,\n",
       "       1.74182524e-16])"
      ]
     },
     "execution_count": 23,
     "metadata": {},
     "output_type": "execute_result"
    }
   ],
   "source": [
    "np.sum(hIn3,axis=1)"
   ]
  }
 ],
 "metadata": {
  "kernelspec": {
   "display_name": "Python 3",
   "language": "python",
   "name": "python3"
  },
  "language_info": {
   "codemirror_mode": {
    "name": "ipython",
    "version": 3
   },
   "file_extension": ".py",
   "mimetype": "text/x-python",
   "name": "python",
   "nbconvert_exporter": "python",
   "pygments_lexer": "ipython3",
   "version": "3.6.1"
  },
  "toc": {
   "base_numbering": 1,
   "nav_menu": {},
   "number_sections": true,
   "sideBar": true,
   "skip_h1_title": false,
   "title_cell": "Table of Contents",
   "title_sidebar": "Contents",
   "toc_cell": false,
   "toc_position": {},
   "toc_section_display": true,
   "toc_window_display": true
  }
 },
 "nbformat": 4,
 "nbformat_minor": 2
}
